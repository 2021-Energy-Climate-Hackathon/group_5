{
 "cells": [
  {
   "cell_type": "markdown",
   "metadata": {},
   "source": [
    "# Eval Output Data"
   ]
  },
  {
   "cell_type": "code",
   "execution_count": null,
   "metadata": {},
   "outputs": [],
   "source": [
    "import pypsa\n",
    "import pandas as pd\n",
    "import numpy as np\n",
    "import matplotlib.pyplot as plt\n",
    "import cartopy.crs as ccrs\n",
    "import matplotlib.font_manager\n",
    "import seaborn as sns\n",
    "\n",
    "# Ignore all warnings including PyPSA logged ones: most of these are known trivial\n",
    "# ones about old versions, Notebook settings, etc. but note you should probably\n",
    "# comment this out at points to check for useful warnings!\n",
    "import warnings\n",
    "warnings.filterwarnings(\"ignore\")\n",
    "import logging\n",
    "logging.getLogger(\"pypsa\").setLevel(level=logging.CRITICAL)  # ignore WARNING and below"
   ]
  },
  {
   "cell_type": "markdown",
   "metadata": {},
   "source": [
    "# Bruno's starting ideas"
   ]
  },
  {
   "cell_type": "code",
   "execution_count": null,
   "metadata": {},
   "outputs": [],
   "source": [
    "# datadir = '/home/users/train061/group_folder/data/'\n",
    "datadir = '/gws/pw/j05/cop26_hackathons/oxford/Group_folders/group_5/data/'\n",
    "model = 'ICHEC'\n",
    "period = '1970-1976'"
   ]
  },
  {
   "cell_type": "code",
   "execution_count": null,
   "metadata": {},
   "outputs": [],
   "source": [
    "network_d = datadir+'schlott_material/{}/{}'.format(model, period)\n",
    "\n",
    "network = pypsa.Network(network_d)"
   ]
  },
  {
   "cell_type": "markdown",
   "metadata": {},
   "source": [
    "## Features\n",
    "Recommendation: Try to investigate measures which can be expressed as a function of the climate period (and potentially the node/carriers). Then, time series can be plotted and compared, similar periods can be identified, measures can be plotted against each other (scatter plots) to identify dependencies."
   ]
  },
  {
   "cell_type": "markdown",
   "metadata": {},
   "source": [
    "### Met Input Data"
   ]
  },
  {
   "cell_type": "code",
   "execution_count": null,
   "metadata": {},
   "outputs": [],
   "source": [
    "### average capacity factors for resources wind (onwind + offwind), solar PV (solar) and runoff river (ror)\n",
    "\n",
    "n_timesteps = len(network.snapshots)  # one value, don't plot\n",
    "\n",
    "n_generators_per_carrier = pd.Series({carrier: len(network.generators.index[network.generators.carrier==carrier])\n",
    "                                     for carrier in ['onwind', 'offwind', 'solar', 'ror']})\n",
    "\n",
    "avg_capacity_factor = network.generators_t.p_max_pu.mean() # per generator\n",
    "\n",
    "avg_capacity_factor_per_carrier = (network.generators_t.p_max_pu.groupby(network.generators.carrier, axis=1).sum().sum()/\n",
    "                                   (n_timesteps*n_generators_per_carrier)) # per carrier\n",
    "\n",
    "avg_capacity_factor_per_carrier_and_node = network.generators_t.p_max_pu.groupby([network.generators.bus, network.generators.carrier], \n",
    "                                                                                 axis=1).sum().sum()/n_timesteps # per carrier and bus\n",
    "\n",
    "# Collect all values with their variable name as a key in a dict\n",
    "###import sys\n",
    "###sys.version_info  # should be in Python 3.8 so can use the below var name getting trick\n",
    "av_cap_factors = {\n",
    "    f'{n_generators_per_carrier=}'.split('=')[0]: n_generators_per_carrier,\n",
    "    f'{avg_capacity_factor=}'.split('=')[0]: avg_capacity_factor,\n",
    "    f'{avg_capacity_factor_per_carrier=}'.split('=')[0]: avg_capacity_factor_per_carrier,\n",
    "    f'{avg_capacity_factor_per_carrier_and_node=}'.split('=')[0]: avg_capacity_factor_per_carrier_and_node,\n",
    "}\n",
    "print(av_cap_factors)"
   ]
  },
  {
   "cell_type": "code",
   "execution_count": null,
   "metadata": {},
   "outputs": [],
   "source": [
    "### low-generation events (minimum power availability from VRES over a period of 2-4 days, see Kies_etal)\n",
    "vregens = network.generators.index[network.generators.carrier.isin(['onwind','offwind','solar'])]\n",
    "available_p = network.generators_t.p_max_pu[vregens].sum(axis=1)\n",
    "\n",
    "minimum_p_available_pu = pd.Series({n_days: (available_p.rolling('{}D'.format(n_days)).sum()/(len(vregens)*n_days*8)).min()\n",
    "                                    for n_days in range(2,5)})\n",
    "\n",
    "# Collect all values with their variable name as a key in a dict\n",
    "low_gen_events = {\n",
    "    f'{vregens=}'.split('=')[0]: vregens,\n",
    "    f'{available_p=}'.split('=')[0]: available_p,\n",
    "    f'{minimum_p_available_pu=}'.split('=')[0]: minimum_p_available_pu,\n",
    "}\n",
    "print(av_cap_factors)"
   ]
  },
  {
   "cell_type": "code",
   "execution_count": null,
   "metadata": {},
   "outputs": [],
   "source": [
    "### complementarity as described in .pptx in group folder\n",
    "### for further complementarity indices see Jurasz_etal\n",
    "\n",
    "complementarity_seasonal = pd.read_csv(datadir+'complementarity/{}/{}/seasonal.csv'.format(model, period), header=0, index_col=0) # only NaNs => Bruno"
   ]
  },
  {
   "cell_type": "code",
   "execution_count": null,
   "metadata": {},
   "outputs": [],
   "source": [
    "### ramp rates (see Kies_etal)\n",
    "### correlation lengths (see Schlott_etal)"
   ]
  },
  {
   "cell_type": "markdown",
   "metadata": {},
   "source": [
    "### Simulation Outputs"
   ]
  },
  {
   "cell_type": "code",
   "execution_count": null,
   "metadata": {},
   "outputs": [],
   "source": [
    "### capacity/generation shares\n",
    "cap_share = network.generators.p_nom_opt.groupby(network.generators.carrier).sum() # per carrier\n",
    "gen_share = network.generators_t.p.groupby(network.generators.carrier, axis=1).sum().sum() # per carrier\n",
    "gen_share_per_node = network.generators_t.p.groupby([network.generators.bus, network.generators.carrier], axis=1).sum().sum() # per carrier and bus\n",
    "\n",
    "\n",
    "# Collect all values with their variable name as a key in a dict\n",
    "shares = {\n",
    "    f'{cap_share=}'.split('=')[0]: cap_share,\n",
    "    f'{gen_share=}'.split('=')[0]: gen_share,\n",
    "    f'{gen_share_per_node=}'.split('=')[0]: gen_share_per_node,\n",
    "}\n",
    "print(shares)"
   ]
  },
  {
   "cell_type": "code",
   "execution_count": null,
   "metadata": {},
   "outputs": [],
   "source": [
    "### levelized cost of electricity\n",
    "investments = network.generators.p_nom_opt * network.generators.capital_cost\n",
    "operation = network.generators_t.p.sum() * network.generators.marginal_cost\n",
    "\n",
    "generation_per_carrier = network.generators_t.p.groupby(network.generators.carrier,axis=1).sum()\n",
    "operation_per_carrier = operation.groupby(network.generators.carrier).sum()\n",
    "investments_per_carrier = investments.groupby(network.generators.carrier).sum()\n",
    "\n",
    "generation_per_carrier_and_node = network.generators_t.p.groupby([network.generators.bus, network.generators.carrier],axis=1).sum()\n",
    "operation_per_carrier_and_node = operation.groupby([network.generators.bus, network.generators.carrier]).sum()\n",
    "investments_per_carrier_and_node = investments.groupby([network.generators.bus, network.generators.carrier]).sum()\n",
    "\n",
    "lcoe = (investments.sum() + operation.sum()) / network.loads_t.p_set.sum().sum() # for whole system  # one value, don't plot\n",
    "lcoe_per_carrier = (investments_per_carrier.sum() + operation_per_carrier.sum()) / generation_per_carrier.sum() # per carrier\n",
    "lcoe_per_carrier_and_node = ((investments_per_carrier_and_node.sum() + operation_per_carrier_and_node.sum()) / \n",
    "                    generation_per_carrier_and_node.sum()) # per carrier and bus\n",
    "\n",
    "\n",
    "# Collect all values with their variable name as a key in a dict\n",
    "costs = {\n",
    "    f'{investments=}'.split('=')[0]: investments,\n",
    "    f'{operation=}'.split('=')[0]: operation,\n",
    "    f'{generation_per_carrier=}'.split('=')[0]: generation_per_carrier,\n",
    "    f'{operation_per_carrier=}'.split('=')[0]: operation_per_carrier,\n",
    "    f'{investments_per_carrier=}'.split('=')[0]: investments_per_carrier,\n",
    "    f'{generation_per_carrier_and_node=}'.split('=')[0]: generation_per_carrier_and_node,\n",
    "    f'{operation_per_carrier_and_node=}'.split('=')[0]: operation_per_carrier_and_node,\n",
    "    f'{investments_per_carrier_and_node=}'.split('=')[0]: investments_per_carrier_and_node,\n",
    "    f'{lcoe_per_carrier=}'.split('=')[0]: lcoe_per_carrier,\n",
    "    f'{lcoe_per_carrier_and_node=}'.split('=')[0]: lcoe_per_carrier_and_node,\n",
    "}\n",
    "print(costs)"
   ]
  },
  {
   "cell_type": "markdown",
   "metadata": {},
   "source": [
    "## Plotting of outputs for inspection of patterns etc.\n",
    "\n",
    "**Please note** that these plots are generated via a minimal code loop from the variables above, to be created quickly for inspection and may not (in fact, probably are not) formatted nicely or in the right plot form (scatter, bar, etc.) for the given data (no comining of related data overlaid on one plot, etc.). The intention is that interesting data can be picked out and/or compared at a glance, and plotted elsewhere in a nicer and more appropriate fashion if relevant.\n",
    "\n",
    "### Plots for the met input data"
   ]
  },
  {
   "cell_type": "markdown",
   "metadata": {},
   "source": [
    "#### Average capacity factors:"
   ]
  },
  {
   "cell_type": "code",
   "execution_count": null,
   "metadata": {},
   "outputs": [],
   "source": [
    "# Plot separate plots for each variable\n",
    "for name, vals in av_cap_factors.items():\n",
    "    fig, ax = plt.subplots(figsize=(18,10))\n",
    "\n",
    "    # Do the actual plotting:\n",
    "    if isinstance(vals, pd.core.series.Series):\n",
    "        vals.plot()\n",
    "    else:\n",
    "        ax.plot(vals)\n",
    "\n",
    "    ax.set(xlabel=name, ylabel='???', title=f\"Plot of {name}\")\n",
    "    ax.grid()\n",
    "\n",
    "    plt.show()\n",
    "    fig.tight_layout()"
   ]
  },
  {
   "cell_type": "markdown",
   "metadata": {},
   "source": [
    "#### Low generation events:"
   ]
  },
  {
   "cell_type": "code",
   "execution_count": null,
   "metadata": {},
   "outputs": [],
   "source": [
    "# Plot separate plots for each variable\n",
    "for name, vals in low_gen_events.items():\n",
    "    fig, ax = plt.subplots(figsize=(18,10))\n",
    "\n",
    "    # Do the actual plotting:\n",
    "    if isinstance(vals, pd.core.series.Series):\n",
    "        vals.plot()\n",
    "    else:\n",
    "        ax.plot(vals)\n",
    "\n",
    "    ax.set(xlabel=name, ylabel='???', title=f\"Plot of {name}\")\n",
    "    ax.grid()\n",
    "\n",
    "    plt.show()\n",
    "    fig.tight_layout()"
   ]
  },
  {
   "cell_type": "markdown",
   "metadata": {},
   "source": [
    "#### Complementarity:"
   ]
  },
  {
   "cell_type": "code",
   "execution_count": null,
   "metadata": {},
   "outputs": [],
   "source": [
    "# Plot separate plots for each variable\n",
    "for name, vals in complementarity_seasonal.items():\n",
    "    fig, ax = plt.subplots(figsize=(18,10))\n",
    "\n",
    "    # Do the actual plotting:\n",
    "    if isinstance(vals, pd.core.series.Series):\n",
    "        vals.plot()\n",
    "    else:\n",
    "        ax.plot(vals)\n",
    "\n",
    "    ax.set(xlabel=name, ylabel='???', title=f\"Plot of {name}\")\n",
    "    ax.grid()\n",
    "\n",
    "    plt.show()\n",
    "    fig.tight_layout()"
   ]
  },
  {
   "cell_type": "markdown",
   "metadata": {},
   "source": [
    "### Plots for the simulation outputs"
   ]
  },
  {
   "cell_type": "markdown",
   "metadata": {},
   "source": [
    "#### Shares plots:"
   ]
  },
  {
   "cell_type": "code",
   "execution_count": null,
   "metadata": {},
   "outputs": [],
   "source": [
    "# Plot separate plots for each variable\n",
    "for name, vals in shares.items():\n",
    "    fig, ax = plt.subplots(figsize=(18,10))\n",
    "\n",
    "    # Do the actual plotting:\n",
    "    if isinstance(vals, pd.core.series.Series):\n",
    "        vals.plot()\n",
    "    else:\n",
    "        ax.plot(vals)\n",
    "\n",
    "    ax.set(xlabel=name, ylabel='???', title=f\"Plot of {name}\")\n",
    "    ax.grid()\n",
    "\n",
    "    plt.show()\n",
    "    fig.tight_layout()"
   ]
  },
  {
   "cell_type": "markdown",
   "metadata": {},
   "source": [
    "#### Costs plots:"
   ]
  },
  {
   "cell_type": "code",
   "execution_count": null,
   "metadata": {},
   "outputs": [],
   "source": [
    "# Plot separate plots for each variable\n",
    "for name, vals in costs.items():\n",
    "    fig, ax = plt.subplots(figsize=(18,10))\n",
    "\n",
    "    # Do the actual plotting:\n",
    "    if isinstance(vals, pd.core.series.Series):\n",
    "        vals.plot()\n",
    "    else:\n",
    "        ax.plot(vals)\n",
    "\n",
    "    ax.set(xlabel=name, ylabel='???', title=f\"Plot of {name}\")\n",
    "    ax.grid()\n",
    "\n",
    "    plt.show()\n",
    "    fig.tight_layout()"
   ]
  }
 ],
 "metadata": {
  "kernelspec": {
   "display_name": "pypsa-eur",
   "language": "python",
   "name": "pypsa-eur"
  },
  "language_info": {
   "codemirror_mode": {
    "name": "ipython",
    "version": 3
   },
   "file_extension": ".py",
   "mimetype": "text/x-python",
   "name": "python",
   "nbconvert_exporter": "python",
   "pygments_lexer": "ipython3",
   "version": "3.8.10"
  }
 },
 "nbformat": 4,
 "nbformat_minor": 4
}
