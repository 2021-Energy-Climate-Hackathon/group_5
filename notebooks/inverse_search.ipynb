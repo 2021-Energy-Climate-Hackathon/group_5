{
 "cells": [
  {
   "cell_type": "markdown",
   "metadata": {},
   "source": [
    "# Inverse Search"
   ]
  },
  {
   "cell_type": "code",
   "execution_count": 5,
   "metadata": {},
   "outputs": [],
   "source": [
    "import pandas as pd\n",
    "import numpy as np\n",
    "import matplotlib.pyplot as plt\n",
    "import glob\n",
    "from tqdm import tqdm\n",
    "\n",
    "plt.style.use('seaborn-whitegrid')\n",
    "%matplotlib inline"
   ]
  },
  {
   "cell_type": "code",
   "execution_count": 6,
   "metadata": {},
   "outputs": [],
   "source": [
    "generator = 'DK onwind'\n",
    "output_feature = 'LCOE'\n",
    "below = 162.\n",
    "significance = 0.6"
   ]
  },
  {
   "cell_type": "code",
   "execution_count": 7,
   "metadata": {},
   "outputs": [],
   "source": [
    "carrier = generator[3:]\n",
    "bus = generator[:2]"
   ]
  },
  {
   "cell_type": "code",
   "execution_count": 8,
   "metadata": {},
   "outputs": [],
   "source": [
    "### identify period-model combinations where outpute_feature leq below\n",
    "lcoe_ichec = pd.read_csv('data/lceo_per_carrier_per_node_all_periods_model_ICHEC.csv', index_col=[0,1], header=0)\n",
    "lcoe_cnrm = pd.read_csv('data/lceo_per_carrier_per_node_all_periods_model_CNRM.csv', index_col=[0,1], header=0)\n",
    "lcoe_mpi = pd.read_csv('data/lceo_per_carrier_per_node_all_periods_model_MPI.csv', index_col=[0,1], header=0)\n",
    "\n",
    "lcoe_ichec.columns = ['ICHEC-{}'.format(period) for period in lcoe_ichec.columns]\n",
    "lcoe_mpi.columns = ['MPI-{}'.format(period) for period in lcoe_mpi.columns]\n",
    "lcoe_cnrm.columns = ['CNRM-{}'.format(period) for period in lcoe_cnrm.columns]\n",
    "\n",
    "lcoe = pd.concat([lcoe_ichec.loc[(bus, carrier),:], lcoe_mpi.loc[(bus, carrier),:], lcoe_cnrm.loc[(bus, carrier),:]])\n",
    "\n",
    "model_period_idx = lcoe.index[lcoe <= below]"
   ]
  },
  {
   "cell_type": "code",
   "execution_count": 11,
   "metadata": {},
   "outputs": [
    {
     "name": "stdout",
     "output_type": "stream",
     "text": [
      "When the lcoe of DK onwind is below 162.0, the average capacity factor of Index(['BA ror', 'BG onwind', 'BG offwind', 'DK solar', 'EE solar', 'FI solar',\n",
      "       'GR offwind', 'HR offwind', 'HR ror', 'IT offwind', 'IT ror',\n",
      "       'LT solar', 'LU solar', 'LV solar', 'PL solar', 'SE solar', 'SI ror'],\n",
      "      dtype='object') is below average and above average for Index(['AT onwind', 'BE onwind', 'BE offwind', 'CZ onwind', 'CZ ror',\n",
      "       'DE onwind', 'DE offwind', 'DK onwind', 'DK offwind', 'DK ror',\n",
      "       'EE onwind', 'EE offwind', 'EE ror', 'FI onwind', 'FI offwind',\n",
      "       'FI ror', 'GB onwind', 'GB offwind', 'HU onwind', 'IE onwind',\n",
      "       'IE offwind', 'LT onwind', 'LT offwind', 'LU onwind', 'LV onwind',\n",
      "       'LV offwind', 'LV ror', 'NL onwind', 'NL offwind', 'NO onwind',\n",
      "       'NO offwind', 'NO ror', 'PL onwind', 'PL offwind', 'PL ror',\n",
      "       'SE onwind', 'SE offwind'],\n",
      "      dtype='object') (significance of 0.6)\n"
     ]
    }
   ],
   "source": [
    "### investigate average capacity factors\n",
    "avgcf = pd.read_csv('/home/users/train061/average_capacity_factors.csv', header=0, index_col=0)\n",
    "\n",
    "avgcf_mn = avgcf.mean()\n",
    "\n",
    "sample = avgcf.loc[model_period_idx,:]\n",
    "\n",
    "avgcf_sample_mn = sample.mean()\n",
    "\n",
    "gens_below = avgcf_mn.index[avgcf_sample_mn < avgcf_mn]\n",
    "gens_above = avgcf_mn.index[avgcf_sample_mn > avgcf_mn]\n",
    "\n",
    "prob = pd.Series(dtype=float)\n",
    "for gb in gens_below.append(gens_above):\n",
    "    if gb in gens_below:\n",
    "        prob[gb] = np.sum(sample[gb] <= avgcf_mn[gb]) / len(sample.index)\n",
    "    elif gb in gens_above:\n",
    "        prob[gb] = np.sum(sample[gb] >= avgcf_mn[gb]) / len(sample.index)\n",
    "\n",
    "prob = prob.sort_values()\n",
    "    \n",
    "gens_below_sig = prob[gens_below].index[prob[gens_below]>=significance]\n",
    "gens_above_sig = prob[gens_above].index[prob[gens_above]>=significance]\n",
    "\n",
    "print('When the lcoe of {} is below {}, the average capacity factor of {} is below average and above average for {} (significance of {})'.format(generator, below, gens_below_sig, gens_above_sig, significance))"
   ]
  },
  {
   "cell_type": "code",
   "execution_count": 67,
   "metadata": {},
   "outputs": [
    {
     "name": "stdout",
     "output_type": "stream",
     "text": [
      "When the lcoe of DK onwind is below 162.0, the seasonal complementarity in Index(['SE ror', 'SE solar', 'SE offwind', 'SE onwind', 'DK solar',\n",
      "       'LU onwind', 'LU solar', 'LU ror', 'DK ror', 'NL onwind', 'NL offwind',\n",
      "       'NL solar', 'NL ror', 'DK offwind', 'DK onwind'],\n",
      "      dtype='object') is above average (significance of 0.6)\n"
     ]
    }
   ],
   "source": [
    "### investigate seasonal complementarity\n",
    "seas_comp = pd.read_csv('/home/users/train061/seasonal_complementarity_order4.csv', header=0, index_col=0)\n",
    "\n",
    "seas_comp_mn = seas_comp.mean()\n",
    "\n",
    "sample = seas_comp.loc[model_period_idx,:]\n",
    "\n",
    "seas_comp_sample_mn = sample.mean()\n",
    "\n",
    "gens_above = seas_comp_mn.index[seas_comp_sample_mn > seas_comp_mn]\n",
    "\n",
    "prob = pd.Series(dtype=float)\n",
    "for gb in gens_above:\n",
    "    prob[gb] = np.sum(sample[gb] >= seas_comp_mn[gb]) / len(sample.index)\n",
    "\n",
    "prob = prob.sort_values()\n",
    "    \n",
    "gens_above_sig = prob.index[prob>=significance]\n",
    "\n",
    "print('When the lcoe of {} is below {}, the seasonal complementarity in {} is above average (significance of {})'.format(generator, below, gens_below_sig, significance))"
   ]
  }
 ],
 "metadata": {
  "kernelspec": {
   "display_name": "pypsa-eur",
   "language": "python",
   "name": "pypsa-eur"
  },
  "language_info": {
   "codemirror_mode": {
    "name": "ipython",
    "version": 3
   },
   "file_extension": ".py",
   "mimetype": "text/x-python",
   "name": "python",
   "nbconvert_exporter": "python",
   "pygments_lexer": "ipython3",
   "version": "3.8.10"
  }
 },
 "nbformat": 4,
 "nbformat_minor": 4
}
