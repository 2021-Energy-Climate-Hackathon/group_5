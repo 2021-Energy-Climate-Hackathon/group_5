{
 "cells": [
  {
   "cell_type": "code",
   "execution_count": 1,
   "metadata": {},
   "outputs": [],
   "source": [
    "########\n",
    "#\n",
    "# in this script we will read in some ERA5 data and then country mask it.\n",
    "# For all years from 1979-2020\n",
    "#\n",
    "# This script is a simple starter script, it can be adapted to read in\n",
    "# multiple years of data or to read in different fields. \n",
    "# \n",
    "# Other functions are also available to load the data in the libraries: \n",
    "# - cfpython \n",
    "# - xarray\n",
    "# - iris\n",
    "#\n",
    "#########\n",
    "\n",
    "import numpy as np\n",
    "from netCDF4 import Dataset\n",
    "import matplotlib.pyplot as plt\n",
    "import cartopy.io.shapereader as shpreader\n",
    "import shapely.geometry\n",
    "\n",
    "\n",
    "def load_country_mask(COUNTRY,data_dir,filename,nc_key):\n",
    "\n",
    "    '''\n",
    "\n",
    "    This function loads the country masks for the ERA5 data grid we have been using\n",
    "\n",
    "    Args:\n",
    "        COUNTRY (str): This must be a name of a country (or set of) e.g. \n",
    "            'United Kingdom','France','Czech Republic'\n",
    " \n",
    "       data_dir (str): The parth for where the data is stored.\n",
    "            e.g '/home/users/zd907959/'\n",
    "\n",
    "        filename (str): The filename of a .netcdf file\n",
    "            e.g. 'ERA5_1979_01.nc'\n",
    "\n",
    "        nc_key (str): The string you need to load the .nc data \n",
    "            e.g. 't2m','rsds'\n",
    "\n",
    "    Returns:\n",
    "       MASK_MATRIX_RESHAPE (array): Dimensions [lat,lon] where there are 1's if \n",
    "           the data is within a country border and zeros if data is outside a \n",
    "           country border. \n",
    "\n",
    "\n",
    "    '''\n",
    "\n",
    "\n",
    "    # first loop through the countries and extract the appropraite shapefile\n",
    "    countries_shp = shpreader.natural_earth(resolution='10m',category='cultural',\n",
    "                                            name='admin_0_countries')\n",
    "    country_shapely = []\n",
    "    for country in shpreader.Reader(countries_shp).records():\n",
    "        if country.attributes['NAME_LONG'] == COUNTRY:\n",
    "            print('Found country')\n",
    "            country_shapely.append(country.geometry)\n",
    "\n",
    "    # load in the data you wish to mask\n",
    "    file_str = data_dir + filename\n",
    "    dataset = Dataset(file_str,mode='r')\n",
    "    lons = dataset.variables['longitude'][:]\n",
    "    lats = dataset.variables['latitude'][:]\n",
    "    data = dataset.variables[nc_key][:] # data in shape [time,lat,lon]\n",
    "    dataset.close()\n",
    "\n",
    "    # get data in appropriate units for models\n",
    "    if nc_key == 't2m':\n",
    "        data = data-273.15 # convert to Kelvin from Celsius\n",
    "    if nc_key == 'ssrd':\n",
    "        data = data/3600. # convert Jh-1m-2 to Wm-2\n",
    "\n",
    "    LONS, LATS = np.meshgrid(lons,lats) # make grids of the lat and lon data\n",
    "    x, y = LONS.flatten(), LATS.flatten() # flatten these to make it easier to \n",
    "    #loop over.\n",
    "    points = np.vstack((x,y)).T\n",
    "    MASK_MATRIX = np.zeros((len(x),1))\n",
    "    # loop through all the lat/lon combinations to get the masked points\n",
    "    for i in range(0,len(x)):\n",
    "        my_point = shapely.geometry.Point(x[i],y[i]) \n",
    "        if country_shapely[0].contains(my_point) == True: \n",
    "            MASK_MATRIX[i,0] = 1.0 # creates 1s and 0s where the country is\n",
    "    \n",
    "    MASK_MATRIX_RESHAPE = np.reshape(MASK_MATRIX,(len(lats),len(lons)))\n",
    "\n",
    "\n",
    "    return(MASK_MATRIX_RESHAPE)"
   ]
  },
  {
   "cell_type": "code",
   "execution_count": 4,
   "metadata": {},
   "outputs": [],
   "source": [
    "def load_country_weather_data(MASK_MATRIX_RESHAPE, data_dir,filename,nc_key):\n",
    "   \n",
    "    '''\n",
    "    \n",
    "    This functions takes the ERA5 reanalysis data, loads it and applies a \n",
    "    pre-loaded country mask. It then takes the mean over that country mask\n",
    "    and returns a time series of the data.\n",
    "    \n",
    "    Note tha unit conversions are currently only implemented for nc_keys of 't2m'\n",
    "    and 'ssrd'\n",
    "    \n",
    "    Args:\n",
    "    \n",
    "    MASK_MATRIX_RESHAPE (array): Dimensions [lat,lon]. where there are 1s within a \n",
    "        country border and zeros outside it.\n",
    "        \n",
    "    data dir (str): the path for where the data is stored\n",
    "    \n",
    "    filename (str): the filesname of a .netcdf (.nc) file\n",
    "    \n",
    "    nc_key (str) : the string you need to load the .nc file e.g. 't2m' or 'ssrd'\n",
    "    \n",
    "    Returns:\n",
    "    \n",
    "    country_timeseries (array): Timeseries of country masked weather data\n",
    "    dimensions [time].\n",
    "    \n",
    "    lats (array): latitudes of the original array of weather data\n",
    "    \n",
    "    lons (array): longitudes of the original array of weather data\n",
    "    \n",
    "    \n",
    "    \n",
    "    '''\n",
    "    \n",
    "    filestr = data_dir + filename\n",
    "    dataset = Dataset(filestr,mode='r')\n",
    "    lons = dataset.variables['longitude'][:]\n",
    "    lats = dataset.variables['latitude'][:]\n",
    "    data = dataset.variables[nc_key][:]\n",
    "    dataset.close()\n",
    "    \n",
    "    if nc_key == 't2m':\n",
    "        data = data-273.15 # convert from K to degCelsius\n",
    "    if nc_key == 'ssrd':\n",
    "        data = data/3600. #convert Jh-1m-2 to Wm-2\n",
    "        \n",
    "    country_masked_data = np.zeros(np.shape(data))\n",
    "    for i in range(0,len(country_masked_data)):\n",
    "        country_masked_data[i,:,:] = data[i,:,:]*MASK_MATRIX_RESHAPE\n",
    "        \n",
    "    country_masked_data[country_masked_data ==0.] = np.nan\n",
    "    \n",
    "    country_timeseries=np.nanmean(np.nanmean(country_masked_data,axis=2),axis=1)\n",
    "                                 \n",
    "    return(country_timeseries,lats,lons)\n",
    "    "
   ]
  },
  {
   "cell_type": "code",
   "execution_count": 6,
   "metadata": {},
   "outputs": [
    {
     "name": "stdout",
     "output_type": "stream",
     "text": [
      "Found country\n"
     ]
    },
    {
     "data": {
      "image/png": "[encoded data removed]",
      "text/plain": [
       "<Figure size 432x288 with 1 Axes>"
      ]
     },
     "metadata": {
      "needs_background": "light"
     },
     "output_type": "display_data"
    }
   ],
   "source": [
    "country_mask = load_country_mask('United Kingdom','/gws/pw/j05/cop26_hackathons/oxford/Data/ERA5_data_EU_domain/field_set_1/','ERA5_1hr_field_set_1_2018_01.nc','t2m')\n",
    "plt.imshow(country_mask)\n",
    "plt.show()"
   ]
  },
  {
   "cell_type": "code",
   "execution_count": 5,
   "metadata": {},
   "outputs": [
    {
     "name": "stdout",
     "output_type": "stream",
     "text": [
      "1979\n",
      "1\n"
     ]
    },
    {
     "ename": "NameError",
     "evalue": "name 'country_mask' is not defined",
     "output_type": "error",
     "traceback": [
      "\u001b[0;31m---------------------------------------------------------------------------\u001b[0m",
      "\u001b[0;31mNameError\u001b[0m                                 Traceback (most recent call last)",
      "\u001b[0;32m<ipython-input-5-5c245c2c6703>\u001b[0m in \u001b[0;36m<module>\u001b[0;34m\u001b[0m\n\u001b[1;32m     13\u001b[0m         \u001b[0mfile_name\u001b[0m \u001b[0;34m=\u001b[0m \u001b[0;34m'ERA5_1hr_field_set_1_'\u001b[0m \u001b[0;34m+\u001b[0m \u001b[0mqyearchar\u001b[0m \u001b[0;34m+\u001b[0m \u001b[0;34m'_'\u001b[0m \u001b[0;34m+\u001b[0m \u001b[0mqmonthchar\u001b[0m \u001b[0;34m+\u001b[0m \u001b[0;34m'.nc'\u001b[0m\u001b[0;34m\u001b[0m\u001b[0;34m\u001b[0m\u001b[0m\n\u001b[1;32m     14\u001b[0m \u001b[0;34m\u001b[0m\u001b[0m\n\u001b[0;32m---> 15\u001b[0;31m         \u001b[0mt2m_data\u001b[0m\u001b[0;34m,\u001b[0m\u001b[0mlats\u001b[0m\u001b[0;34m,\u001b[0m\u001b[0mlons\u001b[0m \u001b[0;34m=\u001b[0m\u001b[0mload_country_weather_data\u001b[0m\u001b[0;34m(\u001b[0m\u001b[0mcountry_mask\u001b[0m\u001b[0;34m,\u001b[0m\u001b[0mfile_loc\u001b[0m\u001b[0;34m,\u001b[0m\u001b[0mfile_name\u001b[0m\u001b[0;34m,\u001b[0m\u001b[0;34m't2m'\u001b[0m\u001b[0;34m)\u001b[0m\u001b[0;34m\u001b[0m\u001b[0;34m\u001b[0m\u001b[0m\n\u001b[0m\u001b[1;32m     16\u001b[0m \u001b[0;34m\u001b[0m\u001b[0m\n\u001b[1;32m     17\u001b[0m         \u001b[0maggregate_t2m\u001b[0m\u001b[0;34m.\u001b[0m\u001b[0mappend\u001b[0m\u001b[0;34m(\u001b[0m\u001b[0mt2m_data\u001b[0m\u001b[0;34m)\u001b[0m\u001b[0;34m\u001b[0m\u001b[0;34m\u001b[0m\u001b[0m\n",
      "\u001b[0;31mNameError\u001b[0m: name 'country_mask' is not defined"
     ]
    }
   ],
   "source": [
    "ERA5_t2m_data = np.zeros([2021-1979,8760]) #number of years, number of hours in a standard year\n",
    "\n",
    "for qyear in range(1979,1980): # loop over the years\n",
    "    \n",
    "    aggregate_t2m = []\n",
    "    print(qyear)\n",
    "    for qmonth in range(1,13): # loop over the months\n",
    "        print(qmonth)\n",
    "        qmonthchar = str(qmonth).zfill(2)\n",
    "        qyearchar = str(qyear)\n",
    "        \n",
    "        file_loc = '/gws/pw/j05/cop26_hackathons/oxford/Data/ERA5_data_EU_domain/field_set_1/'\n",
    "        file_name = 'ERA5_1hr_field_set_1_' + qyearchar + '_' + qmonthchar + '.nc' \n",
    "        \n",
    "        t2m_data,lats,lons =load_country_weather_data(country_mask,file_loc,file_name,'t2m')\n",
    "        \n",
    "        aggregate_t2m.append(t2m_data)\n",
    "      \n",
    "    temp_data = np.array([item for sublist in aggregate_t2m for item in sublist])\n",
    "    ERA5_t2m_data[qyear-1979,:] = np.array(temp_data)"
   ]
  },
  {
   "cell_type": "code",
   "execution_count": 20,
   "metadata": {},
   "outputs": [
    {
     "data": {
      "image/png": "[encoded data removed]",
      "text/plain": [
       "<Figure size 432x288 with 1 Axes>"
      ]
     },
     "metadata": {
      "needs_background": "light"
     },
     "output_type": "display_data"
    }
   ],
   "source": [
    "plt.plot(ERA5_t2m_data[0,:])\n",
    "plt.xlabel('Hour of the year',fontsize=14)\n",
    "plt.ylabel('2m temperature',fontsize=16)\n",
    "plt.title('1979 temperature data',fontsize=16)\n",
    "plt.show()\n"
   ]
  },
  {
   "cell_type": "code",
   "execution_count": null,
   "metadata": {},
   "outputs": [],
   "source": []
  }
 ],
 "metadata": {
  "kernelspec": {
   "display_name": "Python 3 + Jaspy",
   "language": "python",
   "name": "jaspy"
  },
  "language_info": {
   "codemirror_mode": {
    "name": "ipython",
    "version": 3
   },
   "file_extension": ".py",
   "mimetype": "text/x-python",
   "name": "python",
   "nbconvert_exporter": "python",
   "pygments_lexer": "ipython3",
   "version": "3.7.1"
  }
 },
 "nbformat": 4,
 "nbformat_minor": 4
}
