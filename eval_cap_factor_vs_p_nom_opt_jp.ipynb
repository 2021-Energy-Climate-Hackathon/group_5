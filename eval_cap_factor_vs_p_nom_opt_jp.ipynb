{
 "cells": [
  {
   "cell_type": "code",
   "execution_count": null,
   "metadata": {},
   "outputs": [],
   "source": [
    "import pypsa\n",
    "import pandas as pd\n",
    "import numpy as np\n",
    "import matplotlib.pyplot as plt\n",
    "import cartopy.crs as ccrs\n",
    "import matplotlib.font_manager\n",
    "import seaborn as sns\n",
    "import cartopy.io.shapereader as shpreader\n",
    "import geopandas as gpd"
   ]
  },
  {
   "cell_type": "code",
   "execution_count": null,
   "metadata": {},
   "outputs": [],
   "source": [
    "models = ['ICHEC','CNRM','MPI']\n",
    "model = 'ICHEC'\n",
    "cap_output_csv = 'data/cap_share_all_periods_model_{}.csv'.format(model)\n",
    "cap_input_generators_csv =  'data/cap_factor_input_all_periods_{}.csv'.format(model)\n",
    "cap_input_per_carrier_csv = 'data/cap_factor_input_per_carrier_all_periods_{}.csv'.format(model)\n",
    "cap_output = pd.read_csv(cap_output_csv, index_col=0)\n",
    "cap_input_per_carrier = pd.read_csv(cap_input_per_carrier_csv, index_col=0)\n",
    "cap_input_per_generator = pd.read_csv(cap_input_generators_csv, index_col=0)\n",
    "# convert column names to multiindex\n",
    "col_name_as_tuples = [(col_name.split('\\'')[1],col_name.split('\\'')[3]) for col_name in cap_input_per_generator.columns]\n",
    "cap_input_per_generator.columns = pd.MultiIndex.from_tuples(col_name_as_tuples)\n"
   ]
  },
  {
   "cell_type": "markdown",
   "metadata": {},
   "source": [
    "## Scatter plots capacity factors (input) vs. capacity share (output)  \n",
    "- carrier $c = $ \\[ 'offwind', 'onwind', 'solar', 'ror' \\]\n",
    "- Generators of carrier $c$: $G_c$\n",
    "- Timesteps of considered period: $T$\n",
    "- Number of timesteps: $N_T$\n",
    "- Number of generators of carrier $c$: $N_{G_c}$\n",
    "\n",
    "### Average Capacity Factor Of Carrier $c$ Input\n",
    "\\begin{equation}\n",
    "    cap_{c,ave} = \\frac{\\sum_{t\\in T}\\sum_{g \\in G_c} P_{g,max,pu,T}}{N_T N_{G_c}}\n",
    "\\end{equation}\n",
    "<!-- (network.generators_t.p_max_pu.groupby(network.generators.carrier, axis=1).sum().sum()/ -->\n",
    "<!--                                            (n_timesteps*n_generators_per_carrier)) -->\n",
    "### Capacity Share Of Carrier $c$ from LOPF Output\n",
    "\n",
    "\\begin{equation}\n",
    "    cap_{c,share} = \\sum_{g \\in G_c} P_{g,nom,opt}\n",
    "\\end{equation}\n",
    "<!-- network.generators.p_nom_opt.groupby(network.generators.carrier).sum() -->\n",
    "\n",
    "Each dot represents single period of a model"
   ]
  },
  {
   "cell_type": "code",
   "execution_count": null,
   "metadata": {},
   "outputs": [],
   "source": [
    "n_rows = 4#len(cap_input_per_carrier.index)\n",
    "n_cols = 5#len(cap_output.index)\n",
    "fig, axes = plt.subplots(n_rows, n_cols, figsize=(18,10))\n",
    "common_df = None\n",
    "for model in models:\n",
    "    # get input capacity factors\n",
    "    cap_input_per_carrier_csv = 'data/cap_factor_input_per_carrier_all_periods_{}.csv'.format(model)\n",
    "    cap_input_per_carrier = pd.read_csv(cap_input_per_carrier_csv, index_col=0)\n",
    "    # get optimal nominal power of simulation\n",
    "    cap_output_csv = 'data/cap_share_all_periods_model_{}.csv'.format(model)\n",
    "    cap_output = pd.read_csv(cap_output_csv, index_col=0)\n",
    "    if model== 'CNRM':\n",
    "        cap_input_per_carrier.drop(axis=1, columns='2006-2012', inplace=True)\n",
    "        cap_output.drop(axis=1, columns='2006-2012', inplace=True)\n",
    "    if common_df is None:\n",
    "        common_df = pd.concat([cap_input_per_carrier.T,  cap_output.T], axis=1, ignore_index=False)\n",
    "    else:\n",
    "        df_tmp = pd.concat([cap_input_per_carrier.T,  cap_output.T], axis=1, ignore_index=False)\n",
    "        common_df = pd.concat([common_df, df_tmp], axis=0, ignore_index=True)\n",
    "        \n",
    "    for i, idx in enumerate(cap_input_per_carrier.index):\n",
    "        for j, idx2 in enumerate(cap_output.index):\n",
    "            ax = axes[i,j]\n",
    "            ax.scatter(cap_input_per_carrier.loc[idx].values, cap_output.loc[idx2].values, label=model)\n",
    "            ax.set_xlabel(\"cap input {}\".format(idx))\n",
    "            ax.set_ylabel(\"p_nom output {}\".format(idx2))\n",
    "            ax.set_title(\"{} in vs. {} out\".format(idx, idx2))\n",
    "\n",
    "handles, labels = ax.get_legend_handles_labels()\n",
    "fig.legend(handles, labels, loc='center right', bbox_to_anchor=(1.07, .5))\n",
    "fig.suptitle(\"capacity factors (input) vs. capacity share (output) for each carrier\")\n",
    "fig.tight_layout()\n",
    "fig.show()\n"
   ]
  },
  {
   "cell_type": "code",
   "execution_count": null,
   "metadata": {},
   "outputs": [],
   "source": [
    "col_names = [idx for idx in cap_input_per_carrier.index]\n",
    "col_names += ['{}_out'.format(idx) for idx in cap_output.index]\n",
    "col_names\n",
    "common_df.columns = col_names\n",
    "common_df.head()"
   ]
  },
  {
   "cell_type": "code",
   "execution_count": null,
   "metadata": {},
   "outputs": [],
   "source": [
    "corr_df = common_df.corr(method='pearson')\n",
    "plt.figure(figsize=(20, 12))\n",
    "sns.heatmap(corr_df, annot=True, cmap=\"RdYlGn\")\n",
    "plt.yticks(rotation=0) \n",
    "plt.title(\"Correlation matrix between input capacity and output capacity share\")\n",
    "plt.show()"
   ]
  },
  {
   "cell_type": "markdown",
   "metadata": {},
   "source": [
    "## Spatial resolution per carrier"
   ]
  },
  {
   "cell_type": "code",
   "execution_count": null,
   "metadata": {},
   "outputs": [],
   "source": [
    "cap_input_per_carrier_dict = {}\n",
    "p_nom_per_carrier_dict = {}\n",
    "cap_factor_per_carrier_and_node_dict = {}\n",
    "p_t_per_carrier_and_node_dict = {}\n",
    "for i, model in enumerate(models):\n",
    "    cap_input_per_carrier_dict[model] = pd.read_csv('data/cap_factor_input_per_carrier_all_periods_{}.csv'.format(model), index_col=0)\n",
    "\n",
    "    p_nom_per_carrier_dict[model] = pd.read_csv('data/cap_share_all_periods_model_{}.csv'.format(model), index_col=0)\n",
    "\n",
    "    cap_factor_per_carrier_and_node_dict[model] = pd.read_csv('data/cap_factor_input_per_carrier_and_node_all_periods_{}.csv'.format(model), index_col=[0,1])\n",
    "\n",
    "    p_t_per_carrier_and_node_dict[model] = pd.read_csv('data/gen_share_per_node_all_periods_model_{}.csv'.format(model), index_col=[0,1])"
   ]
  },
  {
   "cell_type": "code",
   "execution_count": null,
   "metadata": {},
   "outputs": [],
   "source": [
    "prop_cycle = plt.rcParams['axes.prop_cycle']\n",
    "colors = ['c', 'm', 'y', 'k', 'r', 'b']#prop_cycle.by_key()['color']\n",
    "linestyles=['-', '--', ':', '-.']\n",
    "style_dict = {c: (colors[i % len(colors)] + linestyles[i//len(colors) % len(linestyles)]) for i, c in enumerate(countries)}"
   ]
  },
  {
   "cell_type": "code",
   "execution_count": null,
   "metadata": {},
   "outputs": [],
   "source": [
    "model = 'CNRM'\n",
    "fig, axes = plt.subplots(2,3, figsize=(14,10))\n",
    "threshold_off = 0.45\n",
    "threshold_on = 0.33\n",
    "legend=True\n",
    "for i, model in enumerate(models):\n",
    "    cap_input_per_carrier = pd.read_csv('data/cap_factor_input_per_carrier_all_periods_{}.csv'.format(model), index_col=0)\n",
    "\n",
    "    p_nom_per_carrier = pd.read_csv('data/cap_share_all_periods_model_{}.csv'.format(model), index_col=0)\n",
    "\n",
    "    cap_factor_per_carrier_and_node = pd.read_csv('data/cap_factor_input_per_carrier_and_node_all_periods_{}.csv'.format(model), index_col=[0,1])\n",
    "\n",
    "    p_t_per_carrier_and_node = pd.read_csv('data/gen_share_per_node_all_periods_model_{}.csv'.format(model), index_col=[0,1])\n",
    "    df_offwind = cap_factor_per_carrier_and_node.xs('offwind', axis=0, level=1)\n",
    "    df_onwind = cap_factor_per_carrier_and_node.xs('onwind', axis=0, level=1)\n",
    "    df_offwind = df_offwind[df_offwind.mean(axis=1)>threshold_off]\n",
    "    df_onwind = df_onwind[df_onwind.mean(axis=1)>threshold_on]\n",
    "    style_offwind = [style_dict[idx] for idx in df_offwind.index]\n",
    "    style_onwind = [style_dict[idx] for idx in df_onwind.index]\n",
    "\n",
    "    df_offwind.T.plot(legend=legend, ax=axes[0,i], style=style_offwind)\n",
    "    df_onwind.T.plot(legend=legend, ax=axes[1,i], style=style_onwind)\n",
    "    axes[0,i].set_title(\"Offwind Capacity Factor - Model {}\".format(model))\n",
    "    axes[0,i].set_ylim([0.1,0.65])\n",
    "    axes[1,i].set_title(\"Onwind Capacity Factor - Model {}\".format(model))\n",
    "    axes[1,i].set_ylim([0.1,0.65])\n",
    "# handles, labels = axes[1,i].get_legend_handles_labels()\n",
    "# fig.legend(handles, labels, loc='center right', bbox_to_anchor=(1.07, .5))\n",
    "fig.tight_layout()\n",
    "fig.show()"
   ]
  },
  {
   "cell_type": "code",
   "execution_count": null,
   "metadata": {},
   "outputs": [],
   "source": [
    "cap_input_per_carrier_dict['CNRM'].max(axis=1)\n",
    "model = 'CNRM'\n",
    "cap_factor_per_carrier_and_node = pd.read_csv('data/cap_factor_input_per_carrier_and_node_all_periods_{}.csv'.format(model), index_col=[0,1])\n",
    "df = pd.DataFrame(columns=['bus', 'model'])\n",
    "\n",
    "for m in models:\n",
    "    for carrier in ['offwind', 'onwind']:\n",
    "#     carrier = 'offwind'\n",
    "        cap_factor_per_carrier_and_node = pd.read_csv('data/cap_factor_input_per_carrier_and_node_all_periods_{}.csv'.format(model), index_col=[0,1])\n",
    "        countries = cap_factor_per_carrier_and_node.xs(carrier, axis=0, level=1).index\n",
    "\n",
    "        df_tmp = pd.DataFrame(columns=['bus', 'model'])\n",
    "        df_tmp['bus'] = countries\n",
    "        df_tmp['model'] = len(countries) * [m]\n",
    "        df_tmp['carrier'] = len(countries) * [carrier]\n",
    "        df_tmp['cap_mean'] = cap_factor_per_carrier_and_node.xs(carrier, axis=0, level=1).mean(axis=1).values\n",
    "        df_tmp['cap_max'] = cap_factor_per_carrier_and_node.xs(carrier, axis=0, level=1).max(axis=1).values\n",
    "        df_tmp['cap_min'] = cap_factor_per_carrier_and_node.xs(carrier, axis=0, level=1).min(axis=1).values\n",
    "        df = pd.concat([df, df_tmp], ignore_index=True)\n",
    "\n",
    "    \n",
    "#     cap_factor_per_carrier_and_node = pd.read_csv('data/cap_factor_input_per_carrier_and_node_all_periods_{}.csv'.format(model), index_col=[0,1])\n",
    "    \n",
    "df\n"
   ]
  },
  {
   "cell_type": "code",
   "execution_count": null,
   "metadata": {
    "jupyter": {
     "source_hidden": true
    }
   },
   "outputs": [],
   "source": [
    "def plot_cap_vs_p_t_per_country(cap_factor_per_carrier_and_node_dict, p_t_per_carrier_and_node_dict, cap_carrier, g_carrier):\n",
    "    n_rows = 6\n",
    "    n_cols = 4\n",
    "    fig, axes = plt.subplots(n_rows, n_cols, figsize=(14,10))\n",
    "#     cap_carrier = 'offwind'\n",
    "#     g_carrier = 'offwind'\n",
    "    for model in models:\n",
    "    #     cap_input_per_carrier = cap_input_per_carrier_dict[model]\n",
    "    #     p_nom_per_carrier = p_nom_per_carrier_dict[model]\n",
    "        cap_factor_per_carrier_and_node = cap_factor_per_carrier_and_node_dict[model]\n",
    "        p_t_per_carrier_and_node = p_t_per_carrier_and_node_dict[model]\n",
    "        countries = p_t_per_carrier_and_node.xs('offwind', axis=0, level=1).index\n",
    "\n",
    "        for i,c in enumerate(countries):\n",
    "            i_row = i // n_cols\n",
    "            i_col = i % n_cols\n",
    "\n",
    "            axes[i_row, i_col].scatter(cap_factor_per_carrier_and_node.xs(cap_carrier, axis=0, level=1).loc[c],\n",
    "                                       p_t_per_carrier_and_node.xs(g_carrier, axis=0, level=1).loc[c], label=model)\n",
    "            axes[i_row, i_col].set_ylabel(\"p_t {}\".format(g_carrier))\n",
    "            axes[i_row, i_col].set_xlabel(\"cap factor {}\".format(cap_carrier))\n",
    "            axes[i_row, i_col].set_title(\"{}\".format(c))\n",
    "\n",
    "    handles, labels = axes[1,1].get_legend_handles_labels()\n",
    "    fig.legend(handles, labels, loc='center right', bbox_to_anchor=(1.07, .5))\n",
    "    fig.suptitle(\"Cap factor of {} vs generation share of {} for each country\".format(cap_carrier, g_carrier))\n",
    "    fig.tight_layout()\n",
    "    fig.show()"
   ]
  },
  {
   "cell_type": "code",
   "execution_count": null,
   "metadata": {},
   "outputs": [],
   "source": [
    "plot_cap_vs_p_t_per_country(cap_factor_per_carrier_and_node_dict, p_t_per_carrier_and_node_dict, cap_carrier='offwind', g_carrier='offwind')"
   ]
  },
  {
   "cell_type": "code",
   "execution_count": null,
   "metadata": {},
   "outputs": [],
   "source": [
    "plot_cap_vs_p_t_per_country(cap_factor_per_carrier_and_node_dict, p_t_per_carrier_and_node_dict, cap_carrier='offwind', g_carrier='onwind')"
   ]
  },
  {
   "cell_type": "code",
   "execution_count": null,
   "metadata": {},
   "outputs": [],
   "source": [
    "plot_cap_vs_p_t_per_country(cap_factor_per_carrier_and_node_dict, p_t_per_carrier_and_node_dict, cap_carrier='onwind', g_carrier='offwind')"
   ]
  },
  {
   "cell_type": "code",
   "execution_count": null,
   "metadata": {},
   "outputs": [],
   "source": [
    "countries = p_t_per_carrier_and_node.xs('offwind', axis=0, level=1).index\n",
    "n_rows = 6\n",
    "n_cols = 4\n",
    "fig, axes = plt.subplots(n_rows, n_cols, figsize=(14,10))\n",
    "cap_carrier = 'onwind'\n",
    "g_carrier = 'offwind'\n",
    "for model in models:\n",
    "    for i,c in enumerate(countries):\n",
    "        i_row = i // n_cols\n",
    "        i_col = i % n_cols\n",
    "        cap_input_per_carrier = cap_input_per_carrier_dict[model]\n",
    "        p_nom_per_carrier = p_nom_per_carrier_dict[model]\n",
    "        cap_factor_per_carrier_and_node = cap_factor_per_carrier_and_node_dict[model]\n",
    "        p_t_per_carrier_and_node = p_t_per_carrier_and_node_dict[model]\n",
    "        \n",
    "        axes[i_row, i_col].scatter(cap_factor_per_carrier_and_node.xs(cap_carrier, axis=0, level=1).loc[c],\n",
    "                                   p_t_per_carrier_and_node.xs(g_carrier, axis=0, level=1).loc[c], label=model)\n",
    "        axes[i_row, i_col].set_ylabel(\"p_t {}\".format(g_carrier))\n",
    "        axes[i_row, i_col].set_xlabel(\"cap factor {}\".format(cap_carrier))\n",
    "\n",
    "handles, labels = axes[1,1].get_legend_handles_labels()\n",
    "fig.legend(handles, labels, loc='center right', bbox_to_anchor=(1.07, .5))\n",
    "fig.tight_layout()"
   ]
  },
  {
   "cell_type": "code",
   "execution_count": null,
   "metadata": {},
   "outputs": [],
   "source": [
    "import pickle as pkl"
   ]
  },
  {
   "cell_type": "code",
   "execution_count": null,
   "metadata": {},
   "outputs": [],
   "source": [
    "with open('python/networks_per_period_ICHEC.pkl', 'rb') as f:\n",
    "    network_all_periods_ICHEC = pkl.load(f)"
   ]
  },
  {
   "cell_type": "code",
   "execution_count": null,
   "metadata": {},
   "outputs": [],
   "source": [
    "periods = network_all_periods_ICHEC.keys()\n"
   ]
  },
  {
   "cell_type": "code",
   "execution_count": null,
   "metadata": {},
   "outputs": [],
   "source": [
    "network = network_all_periods_ICHEC[\"1970-1976\"]"
   ]
  },
  {
   "cell_type": "code",
   "execution_count": null,
   "metadata": {},
   "outputs": [],
   "source": [
    "n_timesteps = len(network.snapshots)\n",
    "n_generators_per_carrier = pd.Series({carrier: len(network.generators.index[network.generators.carrier==carrier])\n",
    "                                      for carrier in ['onwind', 'offwind', 'solar', 'ror']})\n",
    "\n",
    "# input data\n",
    "# capacity factor\n",
    "print(\"collect mean, max, min of capacity per generator node\")\n",
    "avg_capacity_factor = network.generators_t.p_max_pu.mean() # per generator node\n",
    "\n",
    "df_cap_fact = pd.DataFrame(index=avg_capacity_factor.index)\n",
    "\n",
    "df_cap_fact['ave'] = avg_capacity_factor\n",
    "df_cap_fact['max'] = network.generators_t.p_max_pu.max()\n",
    "df_cap_fact['min'] = network.generators_t.p_max_pu.min()"
   ]
  },
  {
   "cell_type": "code",
   "execution_count": null,
   "metadata": {},
   "outputs": [],
   "source": [
    "network.generators_t.p_max_pu.groupby(network.generators.carrier, axis=1).max()"
   ]
  },
  {
   "cell_type": "code",
   "execution_count": null,
   "metadata": {},
   "outputs": [],
   "source": [
    "index = pd.MultiIndex.from_tuples([(c, 'min'), (c, 'max'), (c,'ave')] for c in ['offwind', 'onwind', 'solar'] )"
   ]
  },
  {
   "cell_type": "code",
   "execution_count": null,
   "metadata": {},
   "outputs": [],
   "source": [
    "index"
   ]
  },
  {
   "cell_type": "code",
   "execution_count": null,
   "metadata": {},
   "outputs": [],
   "source": [
    "index = pd.MultiIndex.from_tuples([(c, 'min'), (c, 'max'), (c,'ave')] for c in ['offwind', 'onwind', 'solar'] )\n",
    "df = pd.DataFrame(index=index)\n",
    "for period, network in network_all_periods_ICHEC.items():\n",
    "    df.loc[:,'max']network.generators_t.p_max_pu.groupby(network.generators.carrier, axis=1).max().mean()\n",
    "    network.generators_t.p_max_pu.groupby(network.generators.carrier, axis=1).min().mean()\n",
    "    network.generators_t.p_max_pu.groupby(network.generators.carrier, axis=1).mean().mean()"
   ]
  },
  {
   "cell_type": "code",
   "execution_count": null,
   "metadata": {},
   "outputs": [],
   "source": [
    "network.generators_t.p_max_pu.groupby(network.generators.carrier, axis=1).min().mean()"
   ]
  },
  {
   "cell_type": "code",
   "execution_count": null,
   "metadata": {},
   "outputs": [],
   "source": [
    "carriers = "
   ]
  },
  {
   "cell_type": "code",
   "execution_count": null,
   "metadata": {},
   "outputs": [],
   "source": [
    "arrays = [['OCGT', 'offwind', 'onwind', 'ror', 'solar'], ['min', 'max', 'ave']]\n",
    "index = pd.MultiIndex.from_product(arrays, names=['carrier','stat'])\n",
    "index"
   ]
  },
  {
   "cell_type": "code",
   "execution_count": null,
   "metadata": {},
   "outputs": [],
   "source": []
  },
  {
   "cell_type": "code",
   "execution_count": null,
   "metadata": {},
   "outputs": [],
   "source": [
    "arrays = [['OCGT', 'offwind', 'onwind', 'ror', 'solar'], ['min', 'max', 'ave']]\n",
    "index = pd.MultiIndex.from_product(arrays, names=['carrier','stat'])\n",
    "\n",
    "df = pd.DataFrame(index=index)\n",
    "df.xs('max', axis=0, level=1)[\"a\"] = network.generators_t.p_max_pu.groupby(network.generators.carrier, axis=1).max().mean()\n"
   ]
  },
  {
   "cell_type": "code",
   "execution_count": null,
   "metadata": {},
   "outputs": [],
   "source": [
    "models = ['ICHEC','CNRM','MPI']\n",
    "for model in models:\n",
    "    with open('python/networks_per_period_{}.pkl'.format(model), 'rb') as f:\n",
    "        network_all_periods = pkl.load(f)\n",
    "    df = None\n",
    "    for period, network in network_all_periods.items():\n",
    "        if df is None:\n",
    "            df = pd.DataFrame(index=np.unique(network.storage_units.carrier))\n",
    "        df[period] = network.storage_units.groupby(network.storage_units.carrier).p_nom_opt.sum()\n",
    "    df.to_csv('data/storage_capacity_per_carrier_all_periods_model{}.csv'.format(model))"
   ]
  },
  {
   "cell_type": "code",
   "execution_count": null,
   "metadata": {},
   "outputs": [],
   "source": []
  }
 ],
 "metadata": {
  "kernelspec": {
   "display_name": "pypsa-eur",
   "language": "python",
   "name": "pypsa-eur"
  },
  "language_info": {
   "codemirror_mode": {
    "name": "ipython",
    "version": 3
   },
   "file_extension": ".py",
   "mimetype": "text/x-python",
   "name": "python",
   "nbconvert_exporter": "python",
   "pygments_lexer": "ipython3",
   "version": "3.8.10"
  }
 },
 "nbformat": 4,
 "nbformat_minor": 4
}
