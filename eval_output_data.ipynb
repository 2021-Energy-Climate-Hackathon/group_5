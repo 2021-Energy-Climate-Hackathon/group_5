{
 "cells": [
  {
   "cell_type": "markdown",
   "metadata": {},
   "source": [
    "# Eval Output Data"
   ]
  },
  {
   "cell_type": "code",
   "execution_count": 2,
   "metadata": {},
   "outputs": [],
   "source": [
    "import pypsa\n",
    "import pandas as pd\n",
    "import numpy as np\n",
    "import matplotlib.pyplot as plt\n",
    "import cartopy.crs as ccrs\n",
    "import matplotlib.font_manager\n",
    "import seaborn as sns"
   ]
  },
  {
   "cell_type": "markdown",
   "metadata": {},
   "source": [
    "## Relevant output parameter for evaluation\n",
    "\n",
    "- p_nom_opt : optimal nominal power in generators\n",
    "- p         : actual power input at t in generators_t\n",
    "- lcoe      : levelized cost (invest + operation)\n",
    "\n",
    "## Collect capacity factor and generation share of models and time periods"
   ]
  },
  {
   "cell_type": "code",
   "execution_count": 2,
   "metadata": {},
   "outputs": [],
   "source": [
    "# basedir = '/gws/pw/j05/cop26_hackathons/oxford/Group_folders/group_5/data/schlott_material'\n",
    "# model = 'ICHEC'\n",
    "# modeldir = os.path.join(basedir, model)\n",
    "# cap_share_all = None\n",
    "# gen_share_all = None\n",
    "# gen_share_per_node_all = None\n",
    "# for period in os.listdir(modeldir):\n",
    "#         print(\"collect data of model {} for period {}\".format(model, period))\n",
    "#         network_d = os.path.join(modeldir,period)\n",
    "#         network = pypsa.Network(network_d)\n",
    "#         ### capacity/generation shares\n",
    "#         cap_share = network.generators.p_nom_opt.groupby(network.generators.carrier).sum() # per carrier\n",
    "#         gen_share = network.generators_t.p.groupby(network.generators.carrier, axis=1).sum().sum() # per carrier\n",
    "#         gen_share_per_node = network.generators_t.p.groupby([network.generators.bus, network.generators.carrier], axis=1).sum().sum() # per carrier and bus\n",
    "#         if cap_share_all is None:\n",
    "#                 cap_share_all = pd.DataFrame(index=cap_share.index)\n",
    "#                 gen_share_all = pd.DataFrame(index=gen_share.index)\n",
    "#                 gen_share_per_node_all = pd.DataFrame(index=gen_share_per_node.index)\n",
    "#         cap_share_all[period] = cap_share\n",
    "#         gen_share_all[period] = gen_share\n",
    "#         gen_share_per_node_all[period] = gen_share_per_node\n",
    "        \n",
    "        \n",
    "        \n",
    "\n",
    "# cap_share_all.to_csv(\"cap_share_all_periods_model_{}.csv\".format(model))\n",
    "# gen_share_all.to_csv(\"gen_share_all_periods_model_{}.csv\".format(model))\n",
    "# gen_share__per_node_all.to_csv(\"gen_share_per_node_all_periods_model_{}.csv\".format(model))\n"
   ]
  },
  {
   "cell_type": "markdown",
   "metadata": {},
   "source": [
    "## Collect LCOE of models and time periods"
   ]
  },
  {
   "cell_type": "code",
   "execution_count": null,
   "metadata": {},
   "outputs": [],
   "source": [
    "# basedir = '/gws/pw/j05/cop26_hackathons/oxford/Group_folders/group_5/data/schlott_material'\n",
    "# for model in ['ICHEC','CNRM','MPI']:\n",
    "#     modeldir = os.path.join(basedir, model)\n",
    "#     lcoe_all = None\n",
    "#     lcoe_per_carrier_all = None\n",
    "#     lcoe_per_carrier_and_node_all = None\n",
    "#     for period in os.listdir(modeldir):\n",
    "#         print(\"collect data of model {} for period {}\".format(model, period))\n",
    "#         network_d = os.path.join(modeldir,period)\n",
    "#         network = pypsa.Network(network_d)\n",
    "\n",
    "#         ### levelized cost of electricity\n",
    "#         investments = network.generators.p_nom_opt * network.generators.capital_cost\n",
    "#         operation = network.generators_t.p.sum() * network.generators.marginal_cost\n",
    "\n",
    "#         generation_per_carrier = network.generators_t.p.groupby(network.generators.carrier,axis=1).sum()\n",
    "#         operation_per_carrier = operation.groupby(network.generators.carrier).sum()\n",
    "#         investments_per_carrier = investments.groupby(network.generators.carrier).sum()\n",
    "\n",
    "#         generation_per_carrier_and_node = network.generators_t.p.groupby([network.generators.bus, network.generators.carrier],axis=1).sum()\n",
    "#         operation_per_carrier_and_node = operation.groupby([network.generators.bus, network.generators.carrier]).sum()\n",
    "#         investments_per_carrier_and_node = investments.groupby([network.generators.bus, network.generators.carrier]).sum()\n",
    "\n",
    "#         lcoe = (investments.sum() + operation.sum()) / network.loads_t.p_set.sum().sum() # for whole system\n",
    "#         lcoe_per_carrier = (investments_per_carrier.sum() + operation_per_carrier.sum()) / generation_per_carrier.sum() # per carrier\n",
    "#         lcoe_per_carrier_and_node = ((investments_per_carrier_and_node.sum() + operation_per_carrier_and_node.sum()) / \n",
    "#                             generation_per_carrier_and_node.sum()) # per carrier and bus\n",
    "\n",
    "#         if lcoe_all is None:\n",
    "#             lcoe_all = pd.DataFrame(index=['lcoe'])\n",
    "#             lcoe_per_carrier_all = pd.DataFrame(index=lcoe_per_carrier.index)\n",
    "#             lcoe_per_carrier_and_node_all = pd.DataFrame(index=lcoe_per_carrier_and_node.index)\n",
    "\n",
    "#         lcoe_all[period] = lcoe\n",
    "#         lcoe_per_carrier_all[period] = lcoe_per_carrier\n",
    "#         lcoe_per_carrier_and_node_all[period] = lcoe_per_carrier_and_node\n",
    "    \n",
    "#     lcoe_all.to_csv(\"lcoe_all_periods_model_{}.csv\".format(model))\n",
    "#     lcoe_per_carrier_all.to_csv(\"lceo_per_carrier_all_periods_model_{}.csv\".format(model))\n",
    "#     lcoe_per_carrier_and_node_all.to_csv(\"lceo_per_carrier_per_node_all_periods_model_{}.csv\".format(model))"
   ]
  },
  {
   "cell_type": "markdown",
   "metadata": {},
   "source": [
    "## Plot capacity and generation share for time periods and models\n",
    "\n",
    "- use normalized difference \n",
    "\n",
    "\\begin{equation}\n",
    "    val = (x - x_{ref}) / x_{ref}\n",
    "\\end{equation}\n",
    "\n",
    "- plot relatively to period 1970-1976"
   ]
  },
  {
   "cell_type": "raw",
   "metadata": {},
   "source": [
    "models = ['ICHEC','CNRM','MPI']\n",
    "cap_share_dict = {model:[] for model in models}\n",
    "gen_share_dict ={model:{\"per_carrier\":[], \"per_carrier_per_node\":[]} for model in models}\n",
    "gen_share_dict ={model:{} for model in models}\n",
    "fig,ax = plt.subplots(2,3,figsize=(18,10))\n",
    "ref_period = \"1970-1976\"\n",
    "for i, model in enumerate(models):\n",
    "    cap_share_csv = 'data/cap_share_all_periods_model_{}.csv'.format(model)\n",
    "    gen_share_csv = 'data/gen_share_all_periods_model_{}.csv'.format(model)\n",
    "    gen_share_per_node_csv = 'data/gen_share_per_node_all_periods_model_{}.csv'.format(model)\n",
    "\n",
    "    cap_share_all = pd.read_csv(cap_share_csv, index_col=0)\n",
    "    gen_share_all = pd.read_csv(gen_share_csv, index_col=0)\n",
    "    gen_share_per_node_all = pd.read_csv(gen_share_per_node_csv, index_col=[0,1])\n",
    "\n",
    "    cap_share_rel = cap_share_all.copy()\n",
    "    gen_share_rel = gen_share_all.copy()\n",
    "    for c in cap_share_all.index:\n",
    "        # compute normalized difference \n",
    "        cap_share_rel.loc[c] = (cap_share_rel.loc[c] - cap_share_all.loc[c][ref_period])/cap_share_all.loc[c][ref_period]\n",
    "        gen_share_rel.loc[c] = (gen_share_rel.loc[c] - gen_share_all.loc[c][ref_period])/gen_share_all.loc[c][ref_period]\n",
    "    cap_share_dict[model] = cap_share_all.copy()\n",
    "    gen_share_dict[model][\"per_carrier\"] = gen_share_all.copy()\n",
    "    gen_share_dict[model][\"per_carrier_per_node\"] = gen_share_per_node_all.copy()\n",
    "    \n",
    "    cap_share_rel.T.plot.bar(ax=ax[0][i], rot=90)\n",
    "    ax[0][i].set_title('capacity share per carrier in model {}, ref {}'.format(model, ref_period))\n",
    "    ax[0][i].set_xticklabels([])\n",
    "    gen_share_rel.T.plot.bar(ax=ax[1][i], rot=90, legend=False)\n",
    "    ax[1][i].set_title('generation share per carrier in model {}, ref {}'.format(model, ref_period))\n",
    "fig.tight_layout()"
   ]
  },
  {
   "cell_type": "markdown",
   "metadata": {},
   "source": [
    "### Drop offwind in LCOE as generation of offwind is small compared to other carriers"
   ]
  },
  {
   "cell_type": "code",
   "execution_count": 4,
   "metadata": {},
   "outputs": [
    {
     "data": {
      "image/png": "[encoded data removed]",
      "text/plain": [
       "<Figure size 1296x720 with 6 Axes>"
      ]
     },
     "metadata": {
      "needs_background": "light"
     },
     "output_type": "display_data"
    }
   ],
   "source": [
    "fig,ax = plt.subplots(2,3,figsize=(18,10))\n",
    "ref_period = \"1970-1976\"\n",
    "for i, model in enumerate(['ICHEC','CNRM','MPI']):\n",
    "    lcoe_csv = 'data/lcoe_all_periods_model_{}.csv'.format(model)\n",
    "    lcoe_per_carrier_csv = 'data/lceo_per_carrier_all_periods_model_{}.csv'.format(model)\n",
    "    lcoe_per_carrier_per_node_csv = 'data/lceo_per_carrier_per_node_all_periods_model_{}.csv'.format(model)\n",
    "    \n",
    "    lcoe = pd.read_csv(lcoe_csv, index_col=0)\n",
    "    lcoe_per_carrier = pd.read_csv(lcoe_per_carrier_csv, index_col=0)\n",
    "    lcoe_per_carrier_per_node = pd.read_csv(lcoe_per_carrier_per_node_csv, index_col=[0,1])\n",
    "    \n",
    "    lcoe_per_carrier = lcoe_per_carrier.drop(index='offwind')\n",
    "    \n",
    "    lcoe_rel = (lcoe.loc['lcoe'] - lcoe.loc['lcoe'][ref_period])/lcoe.loc['lcoe'][ref_period]\n",
    "    lcoe_per_carrier_rel = lcoe_per_carrier.copy()\n",
    "    for c in lcoe_per_carrier.index:\n",
    "        # compute normalized difference \n",
    "        lcoe_per_carrier_rel.loc[c] = (lcoe_per_carrier_rel.loc[c] - lcoe_per_carrier.loc[c][ref_period])/lcoe_per_carrier.loc[c][ref_period]\n",
    "\n",
    "    lcoe_rel.T.plot.bar(ax=ax[0][i], rot=90)\n",
    "    ax[0][i].set_title('LCOE in model {}, ref {}'.format(model, ref_period))\n",
    "    ax[0][i].set_xticklabels([])\n",
    "    lcoe_per_carrier_rel.T.plot.bar(ax=ax[1][i], rot=90, legend=True)\n",
    "    ax[1][i].set_title('LCOE per carrier in model {}, ref {}'.format(model, ref_period))\n",
    "fig.tight_layout()"
   ]
  },
  {
   "cell_type": "code",
   "execution_count": 41,
   "metadata": {},
   "outputs": [],
   "source": []
  },
  {
   "cell_type": "markdown",
   "metadata": {},
   "source": [
    "# Plot Europe maps"
   ]
  },
  {
   "cell_type": "code",
   "execution_count": 113,
   "metadata": {},
   "outputs": [
    {
     "name": "stderr",
     "output_type": "stream",
     "text": [
      "WARNING:pypsa.io:\n",
      "Importing PyPSA from older version of PyPSA than current version 0.17.1.\n",
      "Please read the release notes at https://pypsa.org/doc/release_notes.html\n",
      "carefully to prepare your network for import.\n",
      "\n",
      "/home/users/train027/.conda/envs/pypsa-eur/lib/python3.8/site-packages/pypsa/io.py:769: FutureWarning: Index.__or__ operating as a set operation is deprecated, in the future this will be a logical operation matching Series.__or__.  Use index.union(other) instead\n",
      "  pnl[attr] = pnl[attr].reindex(columns=df.index | columns, fill_value=default)\n",
      "/home/users/train027/.conda/envs/pypsa-eur/lib/python3.8/site-packages/pypsa/io.py:771: FutureWarning: Index.__or__ operating as a set operation is deprecated, in the future this will be a logical operation matching Series.__or__.  Use index.union(other) instead\n",
      "  pnl[attr] = pnl[attr].reindex(columns=(pnl[attr].columns | columns))\n",
      "INFO:pypsa.io:Imported network 1970-1976 has buses, carriers, generators, links, loads, storage_units\n"
     ]
    }
   ],
   "source": [
    "# datadir = '/home/users/train061/group_folder/data/'\n",
    "datadir = '/gws/pw/j05/cop26_hackathons/oxford/Group_folders/group_5/data/'\n",
    "model = 'ICHEC'\n",
    "period = '1970-1976'\n",
    "\n",
    "network_d = datadir+'schlott_material/{}/{}'.format(model, period)\n",
    "\n",
    "network = pypsa.Network(network_d)"
   ]
  },
  {
   "cell_type": "markdown",
   "metadata": {},
   "source": [
    "# Bruno's starting ideas"
   ]
  },
  {
   "cell_type": "code",
   "execution_count": 135,
   "metadata": {},
   "outputs": [],
   "source": [
    "# datadir = '/home/users/train061/group_folder/data/'\n",
    "datadir = '/gws/pw/j05/cop26_hackathons/oxford/Group_folders/group_5/data/'\n",
    "model = 'ICHEC'\n",
    "period = '1970-1976'"
   ]
  },
  {
   "cell_type": "code",
   "execution_count": 136,
   "metadata": {},
   "outputs": [
    {
     "name": "stderr",
     "output_type": "stream",
     "text": [
      "WARNING:pypsa.io:\n",
      "Importing PyPSA from older version of PyPSA than current version 0.17.1.\n",
      "Please read the release notes at https://pypsa.org/doc/release_notes.html\n",
      "carefully to prepare your network for import.\n",
      "\n",
      "/home/users/train027/.conda/envs/pypsa-eur/lib/python3.8/site-packages/pypsa/io.py:769: FutureWarning: Index.__or__ operating as a set operation is deprecated, in the future this will be a logical operation matching Series.__or__.  Use index.union(other) instead\n",
      "  pnl[attr] = pnl[attr].reindex(columns=df.index | columns, fill_value=default)\n",
      "/home/users/train027/.conda/envs/pypsa-eur/lib/python3.8/site-packages/pypsa/io.py:771: FutureWarning: Index.__or__ operating as a set operation is deprecated, in the future this will be a logical operation matching Series.__or__.  Use index.union(other) instead\n",
      "  pnl[attr] = pnl[attr].reindex(columns=(pnl[attr].columns | columns))\n",
      "INFO:pypsa.io:Imported network 1970-1976 has buses, carriers, generators, links, loads, storage_units\n"
     ]
    }
   ],
   "source": [
    "network_d = datadir+'schlott_material/{}/{}'.format(model, period)\n",
    "\n",
    "network = pypsa.Network(network_d)"
   ]
  },
  {
   "cell_type": "code",
   "execution_count": null,
   "metadata": {},
   "outputs": [],
   "source": []
  },
  {
   "cell_type": "markdown",
   "metadata": {},
   "source": [
    "## Features\n",
    "Recommendation: Try to investigate measures which can be expressed as a function of the climate period (and potentially the node/carriers). Then, time series can be plotted and compared, similar periods can be identified, measures can be plotted against each other (scatter plots) to identify dependencies."
   ]
  },
  {
   "cell_type": "markdown",
   "metadata": {},
   "source": [
    "### Met Input Data"
   ]
  },
  {
   "cell_type": "code",
   "execution_count": 137,
   "metadata": {},
   "outputs": [],
   "source": [
    "### average capacity factors for resources wind (onwind + offwind), solar PV (solar) and runoff river (ror)\n",
    "\n",
    "n_timesteps = len(network.snapshots)\n",
    "n_generators_per_carrier = pd.Series({carrier: len(network.generators.index[network.generators.carrier==carrier])\n",
    "                                     for carrier in ['onwind', 'offwind', 'solar', 'ror']})\n",
    "\n",
    "avg_capacity_factor = network.generators_t.p_max_pu.mean() # per generator\n",
    "\n",
    "avg_capacity_factor_per_carrier = (network.generators_t.p_max_pu.groupby(network.generators.carrier, axis=1).sum().sum()/\n",
    "                                   (n_timesteps*n_generators_per_carrier)) # per carrier\n",
    "\n",
    "avg_capacity_factor_per_carrier_and_node = network.generators_t.p_max_pu.groupby([network.generators.bus, network.generators.carrier], \n",
    "                                                                                 axis=1).sum().sum()/n_timesteps # per carrier and bus"
   ]
  },
  {
   "cell_type": "code",
   "execution_count": 138,
   "metadata": {},
   "outputs": [],
   "source": [
    "### low-generation events (minimum power availability from VRES over a period of 2-4 days, see Kies_etal)\n",
    "vregens = network.generators.index[network.generators.carrier.isin(['onwind','offwind','solar'])]\n",
    "available_p = network.generators_t.p_max_pu[vregens].sum(axis=1)\n",
    "\n",
    "minimum_p_available_pu = pd.Series({n_days: (available_p.rolling('{}D'.format(n_days)).sum()/(len(vregens)*n_days*8)).min()\n",
    "                                    for n_days in range(2,5)})"
   ]
  },
  {
   "cell_type": "code",
   "execution_count": 139,
   "metadata": {},
   "outputs": [],
   "source": [
    "### complementarity as described in .pptx in group folder\n",
    "### for further complementarity indices see Jurasz_etal\n",
    "\n",
    "complementarity_seasonal = pd.read_csv(datadir+'complementarity/{}/{}/seasonal.csv'.format(model, period), header=0, index_col=0) # only NaNs => Bruno"
   ]
  },
  {
   "cell_type": "code",
   "execution_count": 140,
   "metadata": {},
   "outputs": [],
   "source": [
    "### ramp rates (see Kies_etal)\n",
    "### correlation lengths (see Schlott_etal)"
   ]
  },
  {
   "cell_type": "markdown",
   "metadata": {},
   "source": [
    "### Simulation Outputs"
   ]
  },
  {
   "cell_type": "code",
   "execution_count": 141,
   "metadata": {},
   "outputs": [],
   "source": [
    "### capacity/generation shares\n",
    "cap_share = network.generators.p_nom_opt.groupby(network.generators.carrier).sum() # per carrier\n",
    "\n",
    "gen_share = network.generators_t.p.groupby(network.generators.carrier, axis=1).sum().sum() # per carrier\n",
    "gen_share_per_node = network.generators_t.p.groupby([network.generators.bus, network.generators.carrier], axis=1).sum().sum() # per carrier and bus"
   ]
  },
  {
   "cell_type": "code",
   "execution_count": 142,
   "metadata": {},
   "outputs": [],
   "source": [
    "### levelized cost of electricity\n",
    "investments = network.generators.p_nom_opt * network.generators.capital_cost\n",
    "operation = network.generators_t.p.sum() * network.generators.marginal_cost\n",
    "\n",
    "generation_per_carrier = network.generators_t.p.groupby(network.generators.carrier,axis=1).sum()\n",
    "operation_per_carrier = operation.groupby(network.generators.carrier).sum()\n",
    "investments_per_carrier = investments.groupby(network.generators.carrier).sum()\n",
    "\n",
    "generation_per_carrier_and_node = network.generators_t.p.groupby([network.generators.bus, network.generators.carrier],axis=1).sum()\n",
    "operation_per_carrier_and_node = operation.groupby([network.generators.bus, network.generators.carrier]).sum()\n",
    "investments_per_carrier_and_node = investments.groupby([network.generators.bus, network.generators.carrier]).sum()\n",
    "\n",
    "lcoe = (investments.sum() + operation.sum()) / network.loads_t.p_set.sum().sum() # for whole system\n",
    "lcoe_per_carrier = (investments_per_carrier.sum() + operation_per_carrier.sum()) / generation_per_carrier.sum() # per carrier\n",
    "lcoe_per_carrier_and_node = ((investments_per_carrier_and_node.sum() + operation_per_carrier_and_node.sum()) / \n",
    "                    generation_per_carrier_and_node.sum()) # per carrier and bus"
   ]
  },
  {
   "cell_type": "code",
   "execution_count": null,
   "metadata": {},
   "outputs": [],
   "source": []
  }
 ],
 "metadata": {
  "kernelspec": {
   "display_name": "pypsa-eur",
   "language": "python",
   "name": "pypsa-eur"
  },
  "language_info": {
   "codemirror_mode": {
    "name": "ipython",
    "version": 3
   },
   "file_extension": ".py",
   "mimetype": "text/x-python",
   "name": "python",
   "nbconvert_exporter": "python",
   "pygments_lexer": "ipython3",
   "version": "3.8.10"
  }
 },
 "nbformat": 4,
 "nbformat_minor": 4
}
