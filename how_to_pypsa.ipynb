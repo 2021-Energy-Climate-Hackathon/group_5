{
 "cells": [
  {
   "cell_type": "markdown",
   "metadata": {},
   "source": [
    "# How to PyPSA"
   ]
  },
  {
   "cell_type": "code",
   "execution_count": 1,
   "metadata": {},
   "outputs": [],
   "source": [
    "import pypsa\n",
    "import pandas as pd\n",
    "import numpy as np\n",
    "import matplotlib.pyplot as plt\n",
    "import cartopy.crs as ccrs\n",
    "import matplotlib.font_manager"
   ]
  },
  {
   "cell_type": "code",
   "execution_count": 11,
   "metadata": {},
   "outputs": [],
   "source": [
    "datadir = '/home/users/train061/group_folder/data/'\n",
    "model = 'ICHEC'\n",
    "period = '1970-1976'"
   ]
  },
  {
   "cell_type": "code",
   "execution_count": 12,
   "metadata": {},
   "outputs": [
    {
     "name": "stderr",
     "output_type": "stream",
     "text": [
      "WARNING:pypsa.io:\n",
      "Importing PyPSA from older version of PyPSA than current version 0.17.1.\n",
      "Please read the release notes at https://pypsa.org/doc/release_notes.html\n",
      "carefully to prepare your network for import.\n",
      "\n",
      "/home/users/train061/envs/pypsa-eur_2/lib/python3.8/site-packages/pypsa/io.py:769: FutureWarning: Index.__or__ operating as a set operation is deprecated, in the future this will be a logical operation matching Series.__or__.  Use index.union(other) instead\n",
      "  pnl[attr] = pnl[attr].reindex(columns=df.index | columns, fill_value=default)\n",
      "/home/users/train061/envs/pypsa-eur_2/lib/python3.8/site-packages/pypsa/io.py:771: FutureWarning: Index.__or__ operating as a set operation is deprecated, in the future this will be a logical operation matching Series.__or__.  Use index.union(other) instead\n",
      "  pnl[attr] = pnl[attr].reindex(columns=(pnl[attr].columns | columns))\n",
      "INFO:pypsa.io:Imported network 1970-1976 has buses, carriers, generators, links, loads, storage_units\n"
     ]
    }
   ],
   "source": [
    "network_d = datadir+'schlott_material/{}/{}'.format(model, period)\n",
    "\n",
    "network = pypsa.Network(network_d)"
   ]
  },
  {
   "cell_type": "markdown",
   "metadata": {},
   "source": [
    "## Features\n",
    "Recommendation: Try to investigate measures which can be expressed as a function of the climate period (and potentially the node/carriers). Then, time series can be plotted and compared, similar periods can be identified, measures can be plotted against each other (scatter plots) to identify dependencies."
   ]
  },
  {
   "cell_type": "markdown",
   "metadata": {},
   "source": [
    "### Met Input Data"
   ]
  },
  {
   "cell_type": "code",
   "execution_count": 29,
   "metadata": {},
   "outputs": [],
   "source": [
    "### average capacity factors for resources wind (onwind + offwind), solar PV (solar) and runoff river (ror)\n",
    "\n",
    "n_timesteps = len(network.snapshots)\n",
    "n_generators_per_carrier = pd.Series({carrier: len(network.generators.index[network.generators.carrier==carrier])\n",
    "                                     for carrier in ['onwind', 'offwind', 'solar', 'ror']})\n",
    "\n",
    "avg_capacity_factor = network.generators_t.p_max_pu.mean() # per generator\n",
    "\n",
    "avg_capacity_factor_per_carrier = (network.generators_t.p_max_pu.groupby(network.generators.carrier, axis=1).sum().sum()/\n",
    "                                   (n_timesteps*n_generators_per_carrier)) # per carrier\n",
    "\n",
    "avg_capacity_factor_per_carrier_and_node = network.generators_t.p_max_pu.groupby([network.generators.bus, network.generators.carrier], \n",
    "                                                                                 axis=1).sum().sum()/n_timesteps # per carrier and bus"
   ]
  },
  {
   "cell_type": "code",
   "execution_count": 113,
   "metadata": {},
   "outputs": [],
   "source": [
    "### low-generation events (minimum power availability from VRES over a period of 2-4 days, see Kies_etal)\n",
    "vregens = network.generators.index[network.generators.carrier.isin(['onwind','offwind','solar'])]\n",
    "available_p = network.generators_t.p_max_pu[vregens].sum(axis=1)\n",
    "\n",
    "minimum_p_available_pu = pd.Series({n_days: (available_p.rolling('{}D'.format(n_days)).sum()/(len(vregens)*n_days*8)).min()\n",
    "                                    for n_days in range(2,5)})"
   ]
  },
  {
   "cell_type": "code",
   "execution_count": 16,
   "metadata": {},
   "outputs": [],
   "source": [
    "### complementarity as described in .pptx in group folder\n",
    "### for further complementarity indices see Jurasz_etal\n",
    "\n",
    "complementarity_seasonal = pd.read_csv(datadir+'complementarity/{}/{}/seasonal.csv'.format(model, period), header=0, index_col=0) # only NaNs => Bruno"
   ]
  },
  {
   "cell_type": "code",
   "execution_count": null,
   "metadata": {},
   "outputs": [],
   "source": [
    "### ramp rates (see Kies_etal)\n",
    "### correlation lengths (see Schlott_etal)"
   ]
  },
  {
   "cell_type": "markdown",
   "metadata": {},
   "source": [
    "### Simulation Outputs"
   ]
  },
  {
   "cell_type": "code",
   "execution_count": 62,
   "metadata": {},
   "outputs": [],
   "source": [
    "### capacity/generation shares\n",
    "cap_share = network.generators.p_nom_opt.groupby(network.generators.carrier).sum() # per carrier\n",
    "\n",
    "gen_share = network.generators_t.p.groupby(network.generators.carrier, axis=1).sum().sum() # per carrier\n",
    "gen_share_per_node = network.generators_t.p.groupby([network.generators.bus, network.generators.carrier], axis=1).sum().sum() # per carrier and bus"
   ]
  },
  {
   "cell_type": "code",
   "execution_count": 52,
   "metadata": {},
   "outputs": [],
   "source": [
    "### levelized cost of electricity\n",
    "investments = network.generators.p_nom_opt * network.generators.capital_cost\n",
    "operation = network.generators_t.p.sum() * network.generators.marginal_cost\n",
    "\n",
    "generation_per_carrier = network.generators_t.p.groupby(network.generators.carrier,axis=1).sum()\n",
    "operation_per_carrier = operation.groupby(network.generators.carrier).sum()\n",
    "investments_per_carrier = investments.groupby(network.generators.carrier).sum()\n",
    "\n",
    "generation_per_carrier_and_node = network.generators_t.p.groupby([network.generators.bus, network.generators.carrier],axis=1).sum()\n",
    "operation_per_carrier_and_node = operation.groupby([network.generators.bus, network.generators.carrier]).sum()\n",
    "investments_per_carrier_and_node = investments.groupby([network.generators.bus, network.generators.carrier]).sum()\n",
    "\n",
    "lcoe = (investments.sum() + operation.sum()) / network.loads_t.p_set.sum().sum() # for whole system\n",
    "lcoe_per_carrier = (investments_per_carrier.sum() + operation_per_carrier.sum()) / generation_per_carrier.sum() # per carrier\n",
    "lcoe_per_carrier_and_node = ((investments_per_carrier_and_node.sum() + operation_per_carrier_and_node.sum()) / \n",
    "                    generation_per_carrier_and_node.sum()) # per carrier and bus"
   ]
  }
 ],
 "metadata": {
  "kernelspec": {
   "display_name": "pypsa-eur",
   "language": "python",
   "name": "pypsa-eur"
  },
  "language_info": {
   "codemirror_mode": {
    "name": "ipython",
    "version": 3
   },
   "file_extension": ".py",
   "mimetype": "text/x-python",
   "name": "python",
   "nbconvert_exporter": "python",
   "pygments_lexer": "ipython3",
   "version": "3.8.10"
  }
 },
 "nbformat": 4,
 "nbformat_minor": 4
}
